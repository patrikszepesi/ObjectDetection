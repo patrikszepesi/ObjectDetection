{
 "cells": [
  {
   "cell_type": "markdown",
   "metadata": {},
   "source": [
    "# Explore the dataset\n",
    "\n",
    "\n",
    "In this notebook, we will perform an EDA (Exploratory Data Analysis) on the processed Waymo dataset (data in the `processed` folder). In the first part, you will create a function to display "
   ]
  },
  {
   "cell_type": "code",
   "execution_count": 20,
   "metadata": {},
   "outputs": [],
   "source": [
    "from utils import get_dataset\n",
    "import glob\n",
    "import matplotlib.pyplot as plt\n",
    "import matplotlib.patches as patches\n",
    "import numpy as np\n",
    "import tensorflow as tf\n",
    "\n",
    "%matplotlib inline\n"
   ]
  },
  {
   "cell_type": "code",
   "execution_count": 21,
   "metadata": {},
   "outputs": [
    {
     "name": "stdout",
     "output_type": "stream",
     "text": [
      "/home/workspace\n",
      "INFO:tensorflow:Reading unweighted datasets: ['/data/**/*.tfrecord']\n",
      "INFO:tensorflow:Reading record datasets for input file: ['/data/**/*.tfrecord']\n",
      "INFO:tensorflow:Number of filenames to read: 103\n"
     ]
    },
    {
     "data": {
      "text/plain": [
       "<DatasetV1Adapter shapes: {image: (None, None, 3), source_id: (), key: (), filename: (), groundtruth_image_confidences: (None,), groundtruth_verified_neg_classes: (None,), groundtruth_not_exhaustive_classes: (None,), groundtruth_boxes: (None, 4), groundtruth_area: (None,), groundtruth_is_crowd: (None,), groundtruth_difficult: (None,), groundtruth_group_of: (None,), groundtruth_weights: (None,), groundtruth_classes: (None,), groundtruth_image_classes: (None,), original_image_spatial_shape: (2,)}, types: {image: tf.uint8, source_id: tf.string, key: tf.string, filename: tf.string, groundtruth_image_confidences: tf.float32, groundtruth_verified_neg_classes: tf.int64, groundtruth_not_exhaustive_classes: tf.int64, groundtruth_boxes: tf.float32, groundtruth_area: tf.float32, groundtruth_is_crowd: tf.bool, groundtruth_difficult: tf.int64, groundtruth_group_of: tf.bool, groundtruth_weights: tf.float32, groundtruth_classes: tf.int64, groundtruth_image_classes: tf.int64, original_image_spatial_shape: tf.int32}>"
      ]
     },
     "execution_count": 21,
     "metadata": {},
     "output_type": "execute_result"
    }
   ],
   "source": [
    "!pwd\n",
    "\n",
    "dataset = get_dataset(\"/data/**/*.tfrecord\")\n",
    "dataset"
   ]
  },
  {
   "cell_type": "markdown",
   "metadata": {},
   "source": [
    "## Write a function to display an image and the bounding boxes\n",
    "\n",
    "Implement the `display_instances` function below. This function takes a batch as an input and display an image with its corresponding bounding boxes. The only requirement is that the classes should be color coded (eg, vehicles in red, pedestrians in blue, cyclist in green)."
   ]
  },
  {
   "cell_type": "code",
   "execution_count": 23,
   "metadata": {},
   "outputs": [],
   "source": [
    "def display_images(batch):\n",
    "    try:\n",
    "        \n",
    "        obj_dict = {1: 'red', 2: 'blue', 4: 'green'}\n",
    "    \n",
    "    \n",
    "        fig, ax = plt.subplots() \n",
    "        im = batch[\"image\"].numpy()\n",
    "        ax.imshow(im)\n",
    "        #coordinates=c, label=l,\n",
    "        #y1,x1,y2,x2\n",
    "        for c, l in zip(batch[\"groundtruth_boxes\"].numpy(), batch[\"groundtruth_classes\"].numpy()):\n",
    "           # xy = (c[1]*im.shape[1], c[0]*im.shape[0])\n",
    "            x=c[1]*im.shape[1]\n",
    "            y=c[0]*im.shape[0]\n",
    "            width = (c[3] - c[1])*im.shape[1]\n",
    "            height = (c[2] - c[0])*im.shape[0]\n",
    "            rec = patches.Rectangle((x,y), width, height, linewidth=1, edgecolor=obj_dict[l], facecolor='none')\n",
    "            ax.add_patch(rec)\n",
    "        plt.axis(\"off\")\n",
    "    except Exception as err:\n",
    "        print(err)"
   ]
  },
  {
   "cell_type": "markdown",
   "metadata": {},
   "source": [
    "## Display 10 images \n",
    "\n",
    "Using the dataset created in the second cell and the function you just coded, display 10 random images with the associated bounding boxes. You can use the methods `take` and `shuffle` on the dataset."
   ]
  },
  {
   "cell_type": "code",
   "execution_count": null,
   "metadata": {},
   "outputs": [],
   "source": [
    "# Display 10 random images in dataset\n",
    "plt.figure(figsize=(10, 10))\n",
    "for i in range(10):\n",
    "    for batch in dataset.shuffle(10, reshuffle_each_iteration=True).take(1):\n",
    "        display_images(batch)\n",
    "plt.show()"
   ]
  },
  {
   "cell_type": "markdown",
   "metadata": {},
   "source": [
    "## Additional EDA\n",
    "\n",
    "In this last part, you are free to perform any additional analysis of the dataset. What else would like to know about the data?\n",
    "For example, think about data distribution. So far, you have only looked at a single file..."
   ]
  },
  {
   "cell_type": "code",
   "execution_count": null,
   "metadata": {},
   "outputs": [],
   "source": [
    "objects={1:0,2:0,4:0}\n",
    "\n",
    "for batches in dataset.take(1000):\n",
    "    for label in batches['groundtruth_classes'].numpy():\n",
    "        objects[label]=objects[label]+1\n",
    "print(objects)"
   ]
  },
  {
   "cell_type": "code",
   "execution_count": null,
   "metadata": {},
   "outputs": [],
   "source": [
    "cars=objects[1]\n",
    "pedestrians=objects[2]\n",
    "cyclists=objects[4]\n",
    "\n",
    "detectedObject=['Car','Pedestrian','Cyclist']\n",
    "foundClasses=[cars,pedestrians,cyclists]\n",
    "\n",
    "colors=['red','blue','green']\n",
    "\n",
    "plt.bar(detectedObject,foundClasses,color=colors)\n",
    "plt.title(\"Distribution of found Classes in a 1000 random images\",fontsize=20)\n",
    "plt.xlabel('Class name',fontsize=16)\n",
    "plt.ylabel('Number of classes detected',fontsize=16)\n",
    "plt.show()"
   ]
  },
  {
   "cell_type": "code",
   "execution_count": null,
   "metadata": {},
   "outputs": [],
   "source": []
  }
 ],
 "metadata": {
  "kernelspec": {
   "display_name": "Python 3",
   "language": "python",
   "name": "python3"
  },
  "language_info": {
   "codemirror_mode": {
    "name": "ipython",
    "version": 3
   },
   "file_extension": ".py",
   "mimetype": "text/x-python",
   "name": "python",
   "nbconvert_exporter": "python",
   "pygments_lexer": "ipython3",
   "version": "3.7.3"
  }
 },
 "nbformat": 4,
 "nbformat_minor": 4
}
